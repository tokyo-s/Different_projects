{
 "cells": [
  {
   "cell_type": "code",
   "execution_count": 1,
   "metadata": {},
   "outputs": [
    {
     "name": "stderr",
     "output_type": "stream",
     "text": [
      "c:\\python38\\lib\\site-packages\\numpy\\_distributor_init.py:30: UserWarning: loaded more than 1 DLL from .libs:\n",
      "c:\\python38\\lib\\site-packages\\numpy\\.libs\\libopenblas.PYQHXLVVQ7VESDPUVUADXEVJOBGHJPAY.gfortran-win_amd64.dll\n",
      "c:\\python38\\lib\\site-packages\\numpy\\.libs\\libopenblas.WCDJNK7YVMPZQ2ME2ZZHJJRJ3JIKNDB7.gfortran-win_amd64.dll\n",
      "  warnings.warn(\"loaded more than 1 DLL from .libs:\"\n"
     ]
    }
   ],
   "source": [
    "#Important imports\n",
    "import torch\n",
    "from torch import nn as nn # for NN\n",
    "from torch.utils.data import Dataset # class to create dataset class\n",
    "from torch import optim # Optimizer\n",
    "from torch.nn import functional as F # activation functions\n",
    "import matplotlib.pyplot as plt # to plot a graph\n",
    "import pandas as pd # py data analysis\n",
    "\n",
    "DEVICE = torch.device('cuda' if torch.cuda.is_available() else 'cpu')"
   ]
  },
  {
   "cell_type": "code",
   "execution_count": 5,
   "metadata": {},
   "outputs": [],
   "source": [
    "# df = pd.read_csv(r'C:\\Users\\vladi\\OneDrive\\Desktop\\Sigmoid\\CV\\CVC\\heart.csv')\n",
    "# df.values"
   ]
  },
  {
   "cell_type": "code",
   "execution_count": 6,
   "metadata": {},
   "outputs": [],
   "source": [
    "class DataSet(Dataset):\n",
    "    \n",
    "    def __init__(self, path):\n",
    "        self.dataset = torch.tensor(pd.read_csv(path).values)\n",
    "    \n",
    "    def __len__(self):\n",
    "        return len(self.dataset)\n",
    "    \n",
    "    def __getitem__(self, i):\n",
    "        return self.dataset[i, :-1], self.dataset[i, -1]    "
   ]
  },
  {
   "cell_type": "code",
   "execution_count": 8,
   "metadata": {},
   "outputs": [],
   "source": [
    "class Net(nn.Module):\n",
    "    \n",
    "    def __init__(self, n_features):\n",
    "        super().__init__()\n",
    "        self.n_features = n_features # 13\n",
    "        \n",
    "        # fully connected \n",
    "        self.fc1 = nn.Linear(self.n_features, 16)\n",
    "        self.fc2 = nn.Linear(16, 32)\n",
    "        self.fc3 = nn.Linear(32,1)\n",
    "        \n",
    "    def forward(self, x):\n",
    "        \n",
    "        out = F.relu(self.fc1(x))\n",
    "        out = F.relu(self.fc2(out))\n",
    "        out = F.sigmoid(self.fc3(out))\n",
    "        \n",
    "        return out"
   ]
  },
  {
   "cell_type": "code",
   "execution_count": null,
   "metadata": {},
   "outputs": [],
   "source": [
    "[1,0,1,0,0,1]"
   ]
  },
  {
   "cell_type": "code",
   "execution_count": null,
   "metadata": {},
   "outputs": [],
   "source": [
    "[[0.8],\n",
    " [0.2],\n",
    " [0.1],\n",
    " [0.4]]"
   ]
  },
  {
   "cell_type": "code",
   "execution_count": 16,
   "metadata": {},
   "outputs": [],
   "source": [
    "def training_loop(n_epoch, optimizer, model, loss_fn, train_loader, test_loader, print_plot):\n",
    "    \n",
    "    train_accuracy = torch.zeros(n_epoch)\n",
    "    test_accuracy = torch.zeros(n_epoch)\n",
    "    \n",
    "    for epoch in range(n_epoch):\n",
    "        \n",
    "        for example, label in train_loader:\n",
    "            \n",
    "            example = example.to(DEVICE)\n",
    "            label = label.to(DEVICE)\n",
    "            \n",
    "            label = label.unsqueeze(1)\n",
    "            \n",
    "            output = model(example.float())\n",
    "            \n",
    "            loss = loss_fn(output, label.float())\n",
    "            \n",
    "            optimizer.zero_grad()\n",
    "            loss.backward()\n",
    "            optimizer.step()\n",
    "            \n",
    "        with torch.no_grad():\n",
    "            \n",
    "            for loader, accuracy in [(train_loader, train_accuracy),(test_loader, test_accuracy)]:\n",
    "                correct = 0\n",
    "                total = 0\n",
    "\n",
    "                for examples, labels in loader:\n",
    "                    examples = examples.to(device=DEVICE)\n",
    "                    labels = labels.to(device=DEVICE).view(-1, 1)\n",
    "\n",
    "                    outputs = model(examples.float())\n",
    "                    predicted = torch.round(outputs)\n",
    "\n",
    "                    total += labels.shape[0]\n",
    "                    correct += (predicted == labels).sum()\n",
    "\n",
    "                accuracy[epoch] = correct / total\n",
    "\n",
    "        if (epoch+1) % 10 ==0:\n",
    "            print(f'Epoch {epoch+1})', \n",
    "                  f'Train Accuracy: {train_accuracy[epoch]}',\n",
    "                  f'Test Accuracy: {test_accuracy[epoch]}')\n",
    "            \n",
    "    if print_plot:\n",
    "        \n",
    "        #Setting x-ticks\n",
    "        epochs = range(n_epoch)\n",
    "\n",
    "        #Ploting both curves, train and val \n",
    "        plt.plot(epochs, train_accuracy, 'g', label='Training accuracy')\n",
    "        plt.plot(epochs, test_accuracy, 'b', label='Test accuracy')\n",
    "        plt.title('Training and Test loss')\n",
    "        plt.xlabel('Epochs')\n",
    "        plt.ylabel('Accuracy')\n",
    "        plt.legend()\n",
    "        plt.show()"
   ]
  },
  {
   "cell_type": "code",
   "execution_count": 17,
   "metadata": {},
   "outputs": [],
   "source": [
    "data = DataSet(r'C:\\Users\\vladi\\OneDrive\\Desktop\\Sigmoid\\CV\\CVC\\heart.csv')\n",
    "\n",
    "n_sample = len(data)\n",
    "n_test = int(0.2*n_sample)\n",
    "\n",
    "train_set, test_set = torch.utils.data.random_split(data, [n_sample-n_test, n_test])\n",
    "\n",
    "train_loader = torch.utils.data.DataLoader(train_set, batch_size = len(train_set), shuffle = True)\n",
    "test_loader = torch.utils.data.DataLoader(test_set, batch_size = len(test_set), shuffle = True)"
   ]
  },
  {
   "cell_type": "code",
   "execution_count": 18,
   "metadata": {},
   "outputs": [
    {
     "name": "stdout",
     "output_type": "stream",
     "text": [
      "Epoch 10) Train Accuracy: 0.47325101494789124 Test Accuracy: 0.36666667461395264\n",
      "Epoch 20) Train Accuracy: 0.5267489552497864 Test Accuracy: 0.6166666746139526\n",
      "Epoch 30) Train Accuracy: 0.6502057313919067 Test Accuracy: 0.4833333492279053\n",
      "Epoch 40) Train Accuracy: 0.6913580298423767 Test Accuracy: 0.5666667222976685\n",
      "Epoch 50) Train Accuracy: 0.7037037014961243 Test Accuracy: 0.6166666746139526\n",
      "Epoch 60) Train Accuracy: 0.7160493731498718 Test Accuracy: 0.6666666865348816\n",
      "Epoch 70) Train Accuracy: 0.7448559403419495 Test Accuracy: 0.6666666865348816\n",
      "Epoch 80) Train Accuracy: 0.757201611995697 Test Accuracy: 0.6833333969116211\n",
      "Epoch 90) Train Accuracy: 0.7613168358802795 Test Accuracy: 0.7166666984558105\n",
      "Epoch 100) Train Accuracy: 0.798353910446167 Test Accuracy: 0.8000000715255737\n",
      "Epoch 110) Train Accuracy: 0.806584358215332 Test Accuracy: 0.8000000715255737\n",
      "Epoch 120) Train Accuracy: 0.8312757015228271 Test Accuracy: 0.8333333730697632\n",
      "Epoch 130) Train Accuracy: 0.8230452537536621 Test Accuracy: 0.8000000715255737\n",
      "Epoch 140) Train Accuracy: 0.8477365970611572 Test Accuracy: 0.8333333730697632\n",
      "Epoch 150) Train Accuracy: 0.8436213731765747 Test Accuracy: 0.8166667222976685\n",
      "Epoch 160) Train Accuracy: 0.8436213731765747 Test Accuracy: 0.8333333730697632\n",
      "Epoch 170) Train Accuracy: 0.8436213731765747 Test Accuracy: 0.8166667222976685\n",
      "Epoch 180) Train Accuracy: 0.8477365970611572 Test Accuracy: 0.8166667222976685\n",
      "Epoch 190) Train Accuracy: 0.8230452537536621 Test Accuracy: 0.7666667103767395\n",
      "Epoch 200) Train Accuracy: 0.8436213731765747 Test Accuracy: 0.8000000715255737\n",
      "Epoch 210) Train Accuracy: 0.8353909254074097 Test Accuracy: 0.8333333730697632\n",
      "Epoch 220) Train Accuracy: 0.8477365970611572 Test Accuracy: 0.8333333730697632\n",
      "Epoch 230) Train Accuracy: 0.8395061492919922 Test Accuracy: 0.8333333730697632\n",
      "Epoch 240) Train Accuracy: 0.8395061492919922 Test Accuracy: 0.8333333730697632\n",
      "Epoch 250) Train Accuracy: 0.8518518209457397 Test Accuracy: 0.8500000238418579\n",
      "Epoch 260) Train Accuracy: 0.8518518209457397 Test Accuracy: 0.8166667222976685\n",
      "Epoch 270) Train Accuracy: 0.8436213731765747 Test Accuracy: 0.8500000238418579\n",
      "Epoch 280) Train Accuracy: 0.8477365970611572 Test Accuracy: 0.8333333730697632\n",
      "Epoch 290) Train Accuracy: 0.8436213731765747 Test Accuracy: 0.8333333730697632\n",
      "Epoch 300) Train Accuracy: 0.8477365970611572 Test Accuracy: 0.8500000238418579\n",
      "Epoch 310) Train Accuracy: 0.8312757015228271 Test Accuracy: 0.8000000715255737\n",
      "Epoch 320) Train Accuracy: 0.8600822687149048 Test Accuracy: 0.8500000238418579\n",
      "Epoch 330) Train Accuracy: 0.8477365970611572 Test Accuracy: 0.8166667222976685\n",
      "Epoch 340) Train Accuracy: 0.8559670448303223 Test Accuracy: 0.8000000715255737\n",
      "Epoch 350) Train Accuracy: 0.8353909254074097 Test Accuracy: 0.8166667222976685\n",
      "Epoch 360) Train Accuracy: 0.8395061492919922 Test Accuracy: 0.8333333730697632\n",
      "Epoch 370) Train Accuracy: 0.8477365970611572 Test Accuracy: 0.8500000238418579\n",
      "Epoch 380) Train Accuracy: 0.8559670448303223 Test Accuracy: 0.8666667342185974\n",
      "Epoch 390) Train Accuracy: 0.8518518209457397 Test Accuracy: 0.8500000238418579\n",
      "Epoch 400) Train Accuracy: 0.8436213731765747 Test Accuracy: 0.8166667222976685\n",
      "Epoch 410) Train Accuracy: 0.8559670448303223 Test Accuracy: 0.8166667222976685\n",
      "Epoch 420) Train Accuracy: 0.8559670448303223 Test Accuracy: 0.8500000238418579\n",
      "Epoch 430) Train Accuracy: 0.8600822687149048 Test Accuracy: 0.8500000238418579\n",
      "Epoch 440) Train Accuracy: 0.8559670448303223 Test Accuracy: 0.8500000238418579\n",
      "Epoch 450) Train Accuracy: 0.8477365970611572 Test Accuracy: 0.8166667222976685\n",
      "Epoch 460) Train Accuracy: 0.8518518209457397 Test Accuracy: 0.8166667222976685\n",
      "Epoch 470) Train Accuracy: 0.8559670448303223 Test Accuracy: 0.8666667342185974\n",
      "Epoch 480) Train Accuracy: 0.8518518209457397 Test Accuracy: 0.8166667222976685\n",
      "Epoch 490) Train Accuracy: 0.8559670448303223 Test Accuracy: 0.8500000238418579\n",
      "Epoch 500) Train Accuracy: 0.8436213731765747 Test Accuracy: 0.8166667222976685\n"
     ]
    },
    {
     "data": {
      "image/png": "[encoded data removed]",
      "text/plain": [
       "<Figure size 432x288 with 1 Axes>"
      ]
     },
     "metadata": {
      "needs_background": "light"
     },
     "output_type": "display_data"
    }
   ],
   "source": [
    "learning_rate = 0.01\n",
    "\n",
    "model = Net(len(data[0][0])).to(DEVICE)\n",
    "\n",
    "optimizizer = optim.Adam(model.parameters(), lr = learning_rate)\n",
    "\n",
    "loss_fn = nn.BCELoss()\n",
    "\n",
    "training_loop(\n",
    "n_epoch = 500,\n",
    "optimizer = optimizizer,\n",
    "model = model,\n",
    "loss_fn = loss_fn,\n",
    "train_loader = train_loader,\n",
    "test_loader = test_loader,\n",
    "print_plot = True\n",
    ")"
   ]
  },
  {
   "cell_type": "code",
   "execution_count": 20,
   "metadata": {},
   "outputs": [
    {
     "name": "stderr",
     "output_type": "stream",
     "text": [
      "c:\\python38\\lib\\site-packages\\torch\\nn\\functional.py:1805: UserWarning: nn.functional.sigmoid is deprecated. Use torch.sigmoid instead.\n",
      "  warnings.warn(\"nn.functional.sigmoid is deprecated. Use torch.sigmoid instead.\")\n"
     ]
    },
    {
     "name": "stdout",
     "output_type": "stream",
     "text": [
      "Epoch 10) Train Accuracy: 0.47736623883247375 Test Accuracy: 0.38333335518836975\n",
      "Epoch 20) Train Accuracy: 0.7160493731498718 Test Accuracy: 0.6500000357627869\n",
      "Epoch 30) Train Accuracy: 0.7283950448036194 Test Accuracy: 0.6500000357627869\n",
      "Epoch 40) Train Accuracy: 0.7242798209190369 Test Accuracy: 0.6833333969116211\n",
      "Epoch 50) Train Accuracy: 0.7407407164573669 Test Accuracy: 0.7000000476837158\n",
      "Epoch 60) Train Accuracy: 0.7448559403419495 Test Accuracy: 0.7166666984558105\n",
      "Epoch 70) Train Accuracy: 0.757201611995697 Test Accuracy: 0.8166667222976685\n",
      "Epoch 80) Train Accuracy: 0.8106995820999146 Test Accuracy: 0.8166667222976685\n",
      "Epoch 90) Train Accuracy: 0.8189300298690796 Test Accuracy: 0.8500000238418579\n",
      "Epoch 100) Train Accuracy: 0.8353909254074097 Test Accuracy: 0.8166667222976685\n",
      "Epoch 110) Train Accuracy: 0.8395061492919922 Test Accuracy: 0.8333333730697632\n",
      "Epoch 120) Train Accuracy: 0.8312757015228271 Test Accuracy: 0.7666667103767395\n",
      "Epoch 130) Train Accuracy: 0.8518518209457397 Test Accuracy: 0.8166667222976685\n",
      "Epoch 140) Train Accuracy: 0.8436213731765747 Test Accuracy: 0.8166667222976685\n",
      "Epoch 150) Train Accuracy: 0.8477365970611572 Test Accuracy: 0.8000000715255737\n",
      "Epoch 160) Train Accuracy: 0.8477365970611572 Test Accuracy: 0.8000000715255737\n",
      "Epoch 170) Train Accuracy: 0.8477365970611572 Test Accuracy: 0.8000000715255737\n",
      "Epoch 180) Train Accuracy: 0.8683127164840698 Test Accuracy: 0.8166667222976685\n",
      "Epoch 190) Train Accuracy: 0.8683127164840698 Test Accuracy: 0.8166667222976685\n",
      "Epoch 200) Train Accuracy: 0.8477365970611572 Test Accuracy: 0.8000000715255737\n"
     ]
    },
    {
     "data": {
      "image/png": "[encoded data removed]",
      "text/plain": [
       "<Figure size 432x288 with 1 Axes>"
      ]
     },
     "metadata": {
      "needs_background": "light"
     },
     "output_type": "display_data"
    }
   ],
   "source": [
    "learning_rate = 0.01\n",
    "\n",
    "model = Net(len(data[0][0])).to(DEVICE)\n",
    "\n",
    "optimizizer = optim.Adam(model.parameters(), lr = learning_rate)\n",
    "\n",
    "loss_fn = nn.BCELoss()\n",
    "\n",
    "training_loop(\n",
    "n_epoch = 200,\n",
    "optimizer = optimizizer,\n",
    "model = model,\n",
    "loss_fn = loss_fn,\n",
    "train_loader = train_loader,\n",
    "test_loader = test_loader,\n",
    "print_plot = True\n",
    ")"
   ]
  },
  {
   "cell_type": "code",
   "execution_count": null,
   "metadata": {},
   "outputs": [],
   "source": []
  },
  {
   "cell_type": "code",
   "execution_count": null,
   "metadata": {},
   "outputs": [],
   "source": []
  },
  {
   "cell_type": "code",
   "execution_count": 11,
   "metadata": {},
   "outputs": [
    {
     "name": "stdout",
     "output_type": "stream",
     "text": [
      "True\n",
      "False\n",
      "True\n",
      "True\n",
      "False\n"
     ]
    }
   ],
   "source": [
    "predicted = [1,0,1,0,0]\n",
    "labels = [1,1,1,0,1]\n",
    "\n",
    "for x in range(len(labels)):\n",
    "    print(predicted[x] == labels[x])"
   ]
  },
  {
   "cell_type": "code",
   "execution_count": null,
   "metadata": {},
   "outputs": [],
   "source": []
  }
 ],
 "metadata": {
  "kernelspec": {
   "display_name": "Python 3",
   "language": "python",
   "name": "python3"
  },
  "language_info": {
   "codemirror_mode": {
    "name": "ipython",
    "version": 3
   },
   "file_extension": ".py",
   "mimetype": "text/x-python",
   "name": "python",
   "nbconvert_exporter": "python",
   "pygments_lexer": "ipython3",
   "version": "3.8.3"
  }
 },
 "nbformat": 4,
 "nbformat_minor": 4
}
